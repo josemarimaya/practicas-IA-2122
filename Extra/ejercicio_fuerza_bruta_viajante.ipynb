{
 "cells": [
  {
   "cell_type": "markdown",
   "metadata": {},
   "source": [
    "### Inteligencia Artificial. Tema 2: Metaheurísticas para optimización\n",
    "\n",
    "### Problema del viajante - Resolución por fuerza bruta\n",
    "\n",
    "José Luis Ruiz Reina - 20 de septiembre 2021"
   ]
  },
  {
   "cell_type": "markdown",
   "metadata": {},
   "source": [
    "El objetivo de este ejercicio preliminar es constatar la dificultad de resolver el problema del viajante por fuerza bruta cuando aumenta el número de ciudades."
   ]
  },
  {
   "cell_type": "code",
   "execution_count": 5,
   "metadata": {},
   "outputs": [],
   "source": [
    "import random, time, math\n",
    "from itertools import permutations"
   ]
  },
  {
   "cell_type": "markdown",
   "metadata": {},
   "source": [
    "Se pide definir una clase Viajante_n, que sirva para definir un problema del viajante generado aleatoriamente con n ciudades. El constructor de la clase recibe un valor $n$ que indicará el número de ciudades y un parámetro $escala$. Las coordenadas $x$ e $y$ de cada ciudad se tomaran aleatoriamente en el rango $[-escala,+escala]$.\n",
    "\n",
    "En concreto, un objeto de esta clase debe tener:\n",
    "\n",
    "* Un atributo `ciudades` con la lista de las ciudades (los números de $1$ a $n$).\n",
    "\n",
    "* Un atributo `coordenadas` que contiene un diccionario cuyas claves son las ciudades (números de $1$ a $n$) y el valor asociado a cada clave es un par $(x,y)$ de coordenadas generado aleatoriamente. \n",
    "\n",
    "* Un método `distancia_circuito` que recibe un lista de ciudades representando un circuito (es decir, un viaje en el que desde cada ciudad se va a la siguiente en la lista, y desde la última a la primera), y devuelve la distancia total recorrida en ese circuito.  \n",
    "\n"
   ]
  },
  {
   "cell_type": "code",
   "execution_count": null,
   "metadata": {},
   "outputs": [],
   "source": []
  },
  {
   "cell_type": "code",
   "execution_count": null,
   "metadata": {},
   "outputs": [],
   "source": []
  },
  {
   "cell_type": "code",
   "execution_count": 6,
   "metadata": {},
   "outputs": [],
   "source": [
    "# Completa el siguiente código\n",
    "\n",
    "# class Viajante_n():\n",
    "#    \n",
    "#    def __init__(self,n,escala):\n",
    "#        ......\n",
    "#        \n",
    "#        \n",
    "#        \n",
    "#    def distancia_circuito(self,lc): # lc lista de ciudades (la primera despues de la última)\n",
    "#        ........ \n"
   ]
  },
  {
   "cell_type": "code",
   "execution_count": null,
   "metadata": {},
   "outputs": [],
   "source": []
  },
  {
   "cell_type": "code",
   "execution_count": 7,
   "metadata": {},
   "outputs": [],
   "source": [
    "class Viajante_n():\n",
    "\n",
    "    def generar_dict(lc):\n",
    "        diccionario = {}\n",
    "        for i in range(1, self.escala):\n",
    "            diccionario[i+1] = list(random.randrange(-self.escala, +self.escala), random.randrange(-self.escala, +self.escala))\n",
    "        return diccionario\n",
    "    def genera_ciudades(n):\n",
    "        res = list()\n",
    "        for i in range(n):\n",
    "            res.append(i)\n",
    "        return res\n",
    "\n",
    "    def __init__(self, n, escala):\n",
    "        super().__init__()\n",
    "        self.n = n\n",
    "        self.escala = escala\n",
    "        self.ciudades = [i for i in range(1, n + 1)]\n",
    "        self.coordenadas = dict([(i, [random.randrange(-self.escala, +self.escala)\n",
    "                                     for i in range(2)]) for i in range(1, n+1)])\n",
    "\n",
    "        # list(random.randrange(-self.escala, +self.escala), random.randrange(-self.escala, +self.escala)\n",
    "\n",
    "   \n",
    "    def distancia_euclidea(coords1,coords2):\n",
    "        return math.hypot(coords1[0] -coords2[0], coords1[1] - coords2[1])\n",
    "        \n",
    "    def distancia_circuito(self, lc):\n",
    "        diccionario = self.coordenadas\n",
    "        distancia = 0\n",
    "        for i in range(1, len(self.ciudades)):\n",
    "            if i == (len(self.ciudades)-1):\n",
    "                distancia = distancia + distancia_euclidea(diccionario[i],diccionario[1])\n",
    "            else: \n",
    "                distancia = distancia + distancia_euclidea(diccionario[i],diccionario[i+1])\n",
    "        return distancia"
   ]
  },
  {
   "cell_type": "code",
   "execution_count": 8,
   "metadata": {},
   "outputs": [],
   "source": [
    "def distancia_euclidea(coords1,coords2):\n",
    "        return math.hypot(coords1[0] -coords2[0], coords1[1] - coords2[1])"
   ]
  },
  {
   "cell_type": "code",
   "execution_count": 9,
   "metadata": {},
   "outputs": [
    {
     "name": "stdout",
     "output_type": "stream",
     "text": [
      "Ciudades pv5: [1, 2, 3, 4, 5]\n",
      "Coordenadas pv5: {1: [2, 0], 2: [-2, 0], 3: [1, 2], 4: [-3, -3], 5: [1, 2]}\n",
      "Distancia recorrida circuito [3, 1, 4, 5, 2]: 19.83962740774214\n"
     ]
    }
   ],
   "source": [
    "# Algunos ejemplos (tener en cuenta que hay una componente aleatoria y \n",
    "#  no tiene por qué salir siempre lo mismo): \n",
    "\n",
    "\n",
    "# pv5=Viajante_n(5,3)\n",
    "pv5=Viajante_n(5,3)\n",
    "# print(\"Ciudades pv5: {}\".format(pv5.ciudades))\n",
    "print(\"Ciudades pv5: {}\".format(pv5.ciudades))\n",
    "# print(\"Coordenadas pv5: {}\".format(pv5.coordenadas))   \n",
    "print(\"Coordenadas pv5: {}\".format(pv5.coordenadas)) \n",
    "circuito5=[3,1,4,5,2]\n",
    "print(\"Distancia recorrida circuito {}: {}\".format(circuito5, pv5.distancia_circuito(circuito5)))\n",
    "# circuito5=[3,1,4,5,2]\n",
    "# print(\"Distancia recorrida circuito {}: {}\".format(circuito5, pv5.distancia_circuito(circuito5)))\n",
    "\n",
    "# Resultado:\n",
    "\n",
    "\n",
    "# Ciudades pv5: [1, 2, 3, 4, 5]\n",
    "# Coordenadas pv5: {1: (0.9933341119772914, -1.3142527442924534), 2: (-2.534978816160301, -0.4348823719914323), 3: (2.9237711389309746, 2.5503047663212124), 4: (-2.3038610315148067, 0.2863670972692458), 5: (-2.6807503499258694, 2.66066145309415)}\n",
    "# Distancia recorrida circuito [3, 1, 4, 5, 2]: 19.70972943031935\n",
    "\n",
    "\n",
    "\n",
    "# ------------------------------------------\n",
    "\n",
    "\n",
    "# pv7=Viajante_n(7,6)\n",
    "# print(\"Ciudades pv7: {}\".format(pv7.ciudades))\n",
    "# print(\"Coordenadas pv7: {}\".format(pv7.coordenadas))      \n",
    "# circuito7=[6,1,7,2,4,3,5]\n",
    "# print(\"Distancia recorrida circuito {}: {}\".format(circuito7, pv7.distancia_circuito(circuito7)))\n",
    "\n",
    "\n",
    "\n",
    "# Resultado:\n",
    "\n",
    "# Ciudades pv7: [1, 2, 3, 4, 5, 6, 7]\n",
    "# Coordenadas pv7: {1: (-4.101506952514783, 2.8132013889243552), 2: (5.850710983895281, 5.122936570240684), 3: (-0.5878950106358758, -1.5103890561568427), 4: (2.906093090298592, 5.110176944095176), 5: (5.58644208048911, 1.2848246079736683), 6: (1.1422345987613527, -5.370749751267727), 7: (4.769985114498658, 5.249400227724447)}\n",
    "# Distancia recorrida circuito [6, 1, 7, 2, 4, 3, 5]: 45.218967297846184\n"
   ]
  },
  {
   "cell_type": "markdown",
   "metadata": {},
   "source": [
    "Piensa ahora en un método \"sencillo\" para resolver el problema del viajante y trata de implementarlo mediante una función `optimización_viajante(pv)`. La función debe devolver el mejor circuito y la distancia del mismo. \n",
    "\n",
    "Aplícalo para resolver distintas instancias de problemas del viajante (generadas como objetos de la clase anterior) y ve aumentando el número de ciudades para ver cómo se comporta tu método. Saca tus propias conclusiones.  \n",
    "\n",
    "Nota: para definir la función puede ser útil usar la función `permutations` del módulo `itertools` que se ha importado más arriba. "
   ]
  },
  {
   "cell_type": "code",
   "execution_count": 12,
   "metadata": {},
   "outputs": [],
   "source": [
    "# Algunos ejemplos:\n",
    "\n",
    "def optimizacion_viajante(pv):\n",
    "\n",
    "    # Usar permutations para generar un set con circuitos no repetidos\n",
    "    \n",
    "    conjunto = {}\n",
    "\n",
    "    for _ in range(math.factorial(4)):\n",
    "        \n",
    "        ls = list(permutations(range(1, 6))) # Deberíamos hacer que se coja el len de pv pero ponemos 6 de range para hacerlo a mano\n",
    "\n",
    "        conjunto.update(ls)\n",
    "\n",
    "    # Una vez tengamos el set, crear un diccionario con cada circuito y su distancia\n",
    "\n",
    "    diccionario = {}\n",
    "\n",
    "    for i in range(len(conjunto)):\n",
    "\n",
    "        diccionario[i] = pv.distancia_circuito(i)\n",
    "\n",
    "    # Recorrer el diccionario, creando una lista de distancias\n",
    "\n",
    "    distancias = list()\n",
    "\n",
    "    for i in range(len(diccionario)):\n",
    "\n",
    "        distancias.append(diccionario[i])\n",
    "\n",
    "    # Devolver la distancia mínima\n",
    "\n",
    "    mini = distancias[0] # Lo suyo sería tener un valor .MAXVALUE() para tener un valor muy alto\n",
    "\n",
    "    for i in range(len(distancias)):\n",
    "\n",
    "        if mini > distancias[i]:\n",
    "\n",
    "            mini = i\n",
    "\n",
    "    return mini\n",
    "    \n",
    "\n",
    "# optimización_viajante(pv5):\n",
    "\n",
    "\n",
    "\n",
    "# Resultado: ((1, 2, 4, 5, 3), 16.723133150725506)\n",
    "\n",
    "\n",
    "# optimización_viajante(pv7):\n",
    "\n",
    "# Resultado:  ((1, 3, 6, 5, 2, 7, 4), 31.983405737842844)\n"
   ]
  },
  {
   "cell_type": "code",
   "execution_count": 13,
   "metadata": {},
   "outputs": [
    {
     "ename": "ValueError",
     "evalue": "dictionary update sequence element #0 has length 5; 2 is required",
     "output_type": "error",
     "traceback": [
      "\u001b[0;31m---------------------------------------------------------------------------\u001b[0m",
      "\u001b[0;31mValueError\u001b[0m                                Traceback (most recent call last)",
      "Cell \u001b[0;32mIn[13], line 1\u001b[0m\n\u001b[0;32m----> 1\u001b[0m \u001b[38;5;28mprint\u001b[39m(\u001b[43moptimizacion_viajante\u001b[49m\u001b[43m(\u001b[49m\u001b[43mpv5\u001b[49m\u001b[43m)\u001b[49m)\n",
      "Cell \u001b[0;32mIn[12], line 13\u001b[0m, in \u001b[0;36moptimizacion_viajante\u001b[0;34m(pv)\u001b[0m\n\u001b[1;32m      9\u001b[0m \u001b[38;5;28;01mfor\u001b[39;00m _ \u001b[38;5;129;01min\u001b[39;00m \u001b[38;5;28mrange\u001b[39m(math\u001b[38;5;241m.\u001b[39mfactorial(\u001b[38;5;241m4\u001b[39m)):\n\u001b[1;32m     11\u001b[0m     ls \u001b[38;5;241m=\u001b[39m \u001b[38;5;28mlist\u001b[39m(permutations(\u001b[38;5;28mrange\u001b[39m(\u001b[38;5;241m1\u001b[39m, \u001b[38;5;241m6\u001b[39m))) \u001b[38;5;66;03m# Deberíamos hacer que se coja el len de pv pero ponemos 6 de range para hacerlo a mano\u001b[39;00m\n\u001b[0;32m---> 13\u001b[0m     \u001b[43mconjunto\u001b[49m\u001b[38;5;241;43m.\u001b[39;49m\u001b[43mupdate\u001b[49m\u001b[43m(\u001b[49m\u001b[43mls\u001b[49m\u001b[43m)\u001b[49m\n\u001b[1;32m     15\u001b[0m \u001b[38;5;66;03m# Una vez tengamos el set, crear un diccionario con cada circuito y su distancia\u001b[39;00m\n\u001b[1;32m     17\u001b[0m diccionario \u001b[38;5;241m=\u001b[39m {}\n",
      "\u001b[0;31mValueError\u001b[0m: dictionary update sequence element #0 has length 5; 2 is required"
     ]
    }
   ],
   "source": [
    "print(optimizacion_viajante(pv5))"
   ]
  },
  {
   "cell_type": "code",
   "execution_count": null,
   "metadata": {},
   "outputs": [],
   "source": []
  }
 ],
 "metadata": {
  "kernelspec": {
   "display_name": "Python 3 (ipykernel)",
   "language": "python",
   "name": "python3"
  },
  "language_info": {
   "codemirror_mode": {
    "name": "ipython",
    "version": 3
   },
   "file_extension": ".py",
   "mimetype": "text/x-python",
   "name": "python",
   "nbconvert_exporter": "python",
   "pygments_lexer": "ipython3",
   "version": "3.11.2"
  }
 },
 "nbformat": 4,
 "nbformat_minor": 4
}
