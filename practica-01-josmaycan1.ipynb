{
  "metadata": {
    "kernelspec": {
      "name": "python",
      "display_name": "Pyolite",
      "language": "python"
    },
    "language_info": {
      "codemirror_mode": {
        "name": "python",
        "version": 3
      },
      "file_extension": ".py",
      "mimetype": "text/x-python",
      "name": "python",
      "nbconvert_exporter": "python",
      "pygments_lexer": "ipython3",
      "version": "3.8"
    }
  },
  "nbformat_minor": 4,
  "nbformat": 4,
  "cells": [
    {
      "cell_type": "markdown",
      "source": "# Práctica 1 - Inteligencia Artificial\n### Grado Ingeniería Informática Tecnologías Informáticas - Curso 2021-22\n\n### Técnicas metaheurísticas para optimización\n### Búsqueda local: enfriamiento simulado",
      "metadata": {}
    },
    {
      "cell_type": "markdown",
      "source": "En esta práctica se verá la implementación en Python del algoritmo de enfriamiento simulado y su uso para intentar resolver distintos casos concretos del problema del viajante.\n\nLa práctica se estructura en tres partes. \n\n* En la primera parte, vamos a implementar la representación del problema del viajante para problemas de búsqueda local. \n* En la segunda implementaremos el algoritmo de enfriamiento simulado.\n* En la tercera parte, lo aplicaremos para resolver distintos problemas del viajante.\n\nNecesitaremos estos dos módulos de la biblioteca estándar (consultar en https://www.python.org/ lo que proporcionan estos dos módulos; algunos de los métodos serán muy útiles en esta práctica) ",
      "metadata": {}
    },
    {
      "cell_type": "code",
      "source": "import random\nimport math",
      "metadata": {
        "trusted": true
      },
      "execution_count": 42,
      "outputs": []
    },
    {
      "cell_type": "markdown",
      "source": "En la teoría hemos visto que cualquier problema de optimización que quisieramos resolver mediante búsqueda local lo íbamos a representar (una vez hayamos decidido una representación para los estados) mediante definición de las siguientes funciones:\n\n* Una función para generar un estado inicial \n* Una función para generar un sucesor a partir de un estado dado. \n* Una función de valoración (la función a optimizar)\n\nLa siguiente clase Problema_Busqueda_Local va a proporcionar un patrón general para representar problemas de optimización a resolver mediante búsqueda local. Los problemas concretos serán subclases de esta clase, obtenidos definiendo sus métodos de manera concreta.\n\nNótese que además de los tres métodos anteriormente mencionados, incluimos un atributo \"mejor\" para definir si se trata de un problema de minimización o de maximización. En concreto, \"mejor\" contendrá la función \"menor que\" si se trata de minimizar, o la función \"mayor que\" si se trata de maximizar (por defecto, el problema será de minimización)   ",
      "metadata": {}
    },
    {
      "cell_type": "code",
      "source": "\"\"\" Esta es la estructura genérica del problema de Búsqueda Local\"\"\"\n\nclass Problema_Busqueda_Local(object):\n    \"\"\"Clase abstracta para un problema de búsqueda local. Los problemas\n    concretos habría que definirlos como subclases de esta clase,\n    implementando genera_estado_inicial, genera_sucesor y valoración. Como\n    atributo de dato, tendremos \"mejor\", que va a almacenar la función \"menor\n    que\", o \"mayor que\" dependiendo de que se trate, respectivamente, de\n    minimizar o maximizar.\"\"\"     \n\n\n    def __init__(self,mejor=lambda x,y: x < y ):\n        self.mejor=mejor\n\n    def genera_estado_inicial(self):\n        \"\"\"Genera, posiblemente con cierta componente aleatoria y heurística,\n           un estado para empezar la búsqueda .\"\"\"\n        abstract\n        \n    def genera_sucesor(self, estado):\n        \"\"\" Devuelve un estado \"sucesor\" del que recibe como\n            entrada. Usualmente, esta función tendrá cierta componente\n            aleatoria y heurística.\"\"\"\n        abstract\n\n    def valoracion(self, estado):\n        \"\"\"Devuelve la valoración de un estado. Es el valor a optimizar.\"\"\"  \n        abstract",
      "metadata": {
        "trusted": true
      },
      "execution_count": 43,
      "outputs": []
    },
    {
      "cell_type": "markdown",
      "source": "## Parte I: Problema del viajante como problema de búsqueda local\n",
      "metadata": {}
    },
    {
      "cell_type": "markdown",
      "source": "### Ejercicio 1\n\nImplementar la clase Viajante_BL de problemas del viajante para ser resueltos mediante búsqueda local. La clase debe ser subclase de Problema_Busqueda_Local y contener además dos atributos de datos adicionales: uno con la lista de las ciudades y otro con una función distancia que se va a usar para calcular la distancia entre cualesquiera dos ciudades (estos dos datos se reciben como argumento por el constructor de la clase). \n\nTanto el método genera_estado_inicial como el método genera_sucesor se han de definir como se ha explicado en clase. Es decir:\n* genera_estado_inicial construye, aleatoriamente, una permutación de las ciudades\n* genera_sucesor construye un circuito a partir de uno dado, invirtiendo el subcircuito entre dos ciudades elegidas aleatoriamente.    \n\nNota: para este ejercicio, pueden ser útiles las funciones random.shuffle y random.sample (consultar en la documentación del módulo random en https://www.python.org/",
      "metadata": {}
    },
    {
      "cell_type": "code",
      "source": "# Escribe aquí la solución\n\"\"\" Vamos a crear la clase del Viajante con lo definido anteriormente siguiendo la estructura anterior\"\"\"\n\n\"\"\" Como su subclase es el de Problema_Busqueda_Local lo indicamos como entrada de la clase definida \"\"\"\nclass Viajante_BL(Problema_Busqueda_Local):\n    \n    # Método constructor que inicializa la creación de ciudades con su distancia\n    def __init__(self,ciudades, distancia):\n        super().__init__()\n        self.ciudades = ciudades\n        self.distancia = distancia\n    \n    # Generamos un estado inicial con la permutación de ciudades\n    def genera_estado_inicial(self):\n        \"\"\"Genera, posiblemente con cierta componente aleatoria y heurística,\n           un estado para empezar la búsqueda .\"\"\"\n        # Creamos una copia con las ciudades para modificar los datos originales\n        ciudades_iniciales = list(self.ciudades)\n         # Con la copia del origen de datos, hacemos una mezcla aleatoria con el paquete random para generar la permutación de ciudades que nos piden\n        random.shuffle(ciudades_iniciales)\n       \n        return ciudades_iniciales\n        \n    # Vamos a construir una lista de ciudades que elige dos ciudades aleatoriamente y les invierte el orden como sucesor del estado anterior\n    def genera_sucesor(self, estado):\n        \"\"\" Devuelve un estado \"sucesor\" del que recibe como\n            entrada. Usualmente, esta función tendrá cierta componente\n            aleatoria y heurística.\"\"\"\n        # Usamos la cantidad de ciudades que hay en el estado actual para la permutación\n        cantidad_ciudades = len(estado)\n        # Índice aleatorio por el cual vamos a seleccionar la subsecuencia de ciudades\n        indice = random.choice(range(cantidad_ciudades))\n        # Longitud de la subsecuencia a la cual vamos a invertir el orden de las ciudades, el rango mínimo es 2 ya que de manera mínima en la lista debe de haber 2 ciudades\n        ls = random.choice(range(2,cantidad_ciudades))\n        # Vamos a usar el estado_resultado para poner el elemento en orden inverso desde el índice de la ls\n        estado_resultado = estado[indice:] + estado[0:indice]\n        # Ponemos estado_resultado en orden desde el -1 quitandole la parte que le vamos a añadir a la inversa\n        # Es decir, array(índice,lista inversa]+array[índice, lo que queda de lista]\n        return estado_resultado[ls::-1]+estado_resultado[ls:]\n\n    def valoracion(self, estado):\n        \"\"\"Devuelve la valoración de un estado. Es el valor a optimizar.\"\"\"  \n        return (sum(self.distancia(estado[i],estado[i+1]) for i in range (len(estado)-1)) \n                + self.distancia(estado[-1],estado[0]))\n        abstract",
      "metadata": {
        "trusted": true
      },
      "execution_count": 44,
      "outputs": []
    },
    {
      "cell_type": "markdown",
      "source": "### Ejercicio 2\n\nLa función distancia_euc2D calcula la distancias entre dos ciudades a partir de sus coordenadas ",
      "metadata": {}
    },
    {
      "cell_type": "code",
      "source": "def distancia_euc2D(c1,c2,coords):\n    \"\"\" Función que recibe dos ciudades y devuelve la distancia entre ellas,\n    calculada mediante distancia euclidea en el plano. El tercer argumento de\n    la función contiene las coordenadas de todas las ciudades del problema (en\n    foma de lista o de diccionario)\"\"\" \n    coord_c1= coords[c1]\n    coord_c2= coords[c2]\n    return math.hypot(coord_c1[0]-coord_c2[0],coord_c1[1]-coord_c2[1])",
      "metadata": {
        "trusted": true
      },
      "execution_count": 45,
      "outputs": []
    },
    {
      "cell_type": "markdown",
      "source": "El siguiente diccionario relaciona el nombre de las capitales andaluzas con us coordenadas: ",
      "metadata": {}
    },
    {
      "cell_type": "code",
      "source": "andalucia={\"almeria\": (409.5, 93),\n           \"cadiz\":(63, 57),\n           \"cordoba\": (198, 207),\n           \"granada\": (309, 127.5),\n           \"huelva\":  (3, 139.5),\n           \"jaen\":    (295.5, 192),\n           \"malaga\":  (232.5,  75),\n           \"sevilla\": ( 90, 153)}",
      "metadata": {
        "trusted": true
      },
      "execution_count": 46,
      "outputs": []
    },
    {
      "cell_type": "code",
      "source": "# Devolvemos la lista de ciudades, las ciudades son las claves del diccionario\nandalucia.keys()",
      "metadata": {
        "trusted": true
      },
      "execution_count": 47,
      "outputs": [
        {
          "execution_count": 44,
          "output_type": "execute_result",
          "data": {
            "text/plain": "dict_keys(['almeria', 'cadiz', 'cordoba', 'granada', 'huelva', 'jaen', 'malaga', 'sevilla'])"
          },
          "metadata": {}
        }
      ]
    },
    {
      "cell_type": "code",
      "source": "#Devolvemos la distancia entre ciudades, que son el valor del diccionario\nandalucia.values()",
      "metadata": {
        "trusted": true
      },
      "execution_count": 48,
      "outputs": [
        {
          "execution_count": 45,
          "output_type": "execute_result",
          "data": {
            "text/plain": "dict_values([(409.5, 93), (63, 57), (198, 207), (309, 127.5), (3, 139.5), (295.5, 192), (232.5, 75), (90, 153)])"
          },
          "metadata": {}
        }
      ]
    },
    {
      "cell_type": "markdown",
      "source": "Usando esto, definir una variable viajante_andalucia, asignándole la instancia de la clase Viajante_BL que define el problema del viajante por las capitales andaluzas.",
      "metadata": {}
    },
    {
      "cell_type": "code",
      "source": "# Escribe aquí la solución\nviajante_andalucia = Viajante_BL(andalucia.keys(), \n                                 lambda x,y : distancia_euc2D(x,y,andalucia))",
      "metadata": {
        "trusted": true
      },
      "execution_count": 49,
      "outputs": []
    },
    {
      "cell_type": "markdown",
      "source": "Con esta instancia concreta del problema del viajante, probar la implementación realizada de genera_estado_inical y de genera_sucesor.\n\nPor ejemplo: ",
      "metadata": {}
    },
    {
      "cell_type": "code",
      "source": "circuito=viajante_andalucia.genera_estado_inicial()",
      "metadata": {
        "trusted": true
      },
      "execution_count": 50,
      "outputs": []
    },
    {
      "cell_type": "code",
      "source": "circuito\n\n# Posible respuesta:\n# ['cadiz', 'huelva', 'almeria', 'jaen', 'malaga', 'sevilla', 'granada', 'cordoba']",
      "metadata": {
        "trusted": true
      },
      "execution_count": 51,
      "outputs": [
        {
          "execution_count": 48,
          "output_type": "execute_result",
          "data": {
            "text/plain": "['malaga',\n 'almeria',\n 'cordoba',\n 'jaen',\n 'sevilla',\n 'cadiz',\n 'granada',\n 'huelva']"
          },
          "metadata": {}
        }
      ]
    },
    {
      "cell_type": "code",
      "source": "viajante_andalucia.genera_sucesor(circuito)\n\n# Posible respuesta:\n# ['cadiz', 'huelva', 'jaen', 'almeria', 'malaga', 'sevilla', 'granada', 'cordoba']",
      "metadata": {
        "trusted": true
      },
      "execution_count": 52,
      "outputs": [
        {
          "execution_count": 49,
          "output_type": "execute_result",
          "data": {
            "text/plain": "['almeria',\n 'malaga',\n 'huelva',\n 'granada',\n 'cadiz',\n 'sevilla',\n 'jaen',\n 'almeria',\n 'cordoba']"
          },
          "metadata": {}
        }
      ]
    },
    {
      "cell_type": "code",
      "source": "circuito_suc = viajante_andalucia.genera_sucesor(circuito)\ncircuito_suc\n\n# Posible respuesta:\n# ['cadiz', 'huelva', 'almeria', 'granada', 'sevilla', 'malaga', 'jaen', 'cordoba']",
      "metadata": {
        "trusted": true
      },
      "execution_count": 53,
      "outputs": [
        {
          "execution_count": 50,
          "output_type": "execute_result",
          "data": {
            "text/plain": "['jaen',\n 'cordoba',\n 'almeria',\n 'malaga',\n 'huelva',\n 'granada',\n 'jaen',\n 'sevilla',\n 'cadiz']"
          },
          "metadata": {}
        }
      ]
    },
    {
      "cell_type": "markdown",
      "source": "Nótese que, puesto que estas funciones tienen una componente aleatoria, no tienen que devolver lo mismo que en estos ejemplos.",
      "metadata": {}
    },
    {
      "cell_type": "markdown",
      "source": "## Parte II: implementación del algoritmo de enfriamiento simulado",
      "metadata": {}
    },
    {
      "cell_type": "markdown",
      "source": "### Ejercicio 3\n\nDefinir una función sorteo(p), que recibe una probabilidad p y devuelve aleatoriamente True ó False, de tal manera que la probabilidad de devolver True sea precisamente p.",
      "metadata": {}
    },
    {
      "cell_type": "code",
      "source": "# Escribe aquí la solución\n# Definimos la funcion con la probabilidad de entrada\ndef sorteo(p):\n    # Usamos la función random.random() del paquete random para devolver un valor aleatorio menor que 1\n    # Así, devolvemos si el valor aleatorio es menor que el p escogido\n    # Dicho p es una variable probabilidad, con lo cual oscilará entre 0.0 y 1.0\n    # La función por tanto devuelve el booleano true o false si el aleatorio es menor que p\n    return (random.random() < p)",
      "metadata": {
        "trusted": true
      },
      "execution_count": 54,
      "outputs": []
    },
    {
      "cell_type": "code",
      "source": "# Un experimento:\n\n# Definimos la función que nos pasará la probabilidad máxima y la cantidad de veces que la calcularemos\ndef experimento (p,n):\n    # Definimos un contador para el bucle\n    cont=0\n    # for _ in range(i) hace que iteremos i veces sin tener ningún valor de iniciado poniendo la cota superior como i\n    for _ in range(n):\n        # Cada vez que el el valor de random.random() se menor que p ...\n        if sorteo(p):\n            # ... Sumamos 1 al contador\n            cont += 1\n    # Al final del bucle devolvemos la media, es decir, el valor del contador/n \n    return cont/n \n\n# Esta función, para n grande, debe devolver aproximadamente p.",
      "metadata": {
        "trusted": true
      },
      "execution_count": 55,
      "outputs": []
    },
    {
      "cell_type": "code",
      "source": "# Prueba\nexperimento(0.3,100000)",
      "metadata": {
        "trusted": true
      },
      "execution_count": 56,
      "outputs": [
        {
          "execution_count": 53,
          "output_type": "execute_result",
          "data": {
            "text/plain": "0.2992"
          },
          "metadata": {}
        }
      ]
    },
    {
      "cell_type": "markdown",
      "source": "### Ejercicio 4\n\nDefinir una función \n\naceptar_e_s(valor_candidata, valor_actual, T, mejor)\n\nque implementa el mecanismo de aceptación de nuevos estados dentro del algoritmo de enfriamiento simulado, donde:\n\n* valor_candidata es la valoración del estado nuevo\n* valor_actual es la valoración del estado actual\n* T es la temperatura\n* mejor es la función que se usa para comprobar si un valor es mejor qaue otro\n\nLa función debe devolver True o False, dependiendo de si la candidata se acepta como nueva actual o no. \n\nNota: se necesitará la función math.exp, que calcula la exponenciación del número e. ",
      "metadata": {}
    },
    {
      "cell_type": "code",
      "source": "# Escribe aquí la solución\n\ndef mejor(v1, v2):\n    return (v1<v2)\ndef aceptar_e_s(valor_candidata, valor_actual, T, mejor):\n    # Aceptamos la variable candidata si con la definición de la función mejor, si el valor de la candidata es menor que el de la actual o ...\n    return (mejor(valor_candidata, valor_actual)\n            # ... si cumple el valor por sorteo es menor que al que se ofrece con la probabilidad de aceptación\n           or sorteo(math.exp(-abs(valor_candidata-valor_actual)/T)))\n    ",
      "metadata": {
        "trusted": true
      },
      "execution_count": 57,
      "outputs": []
    },
    {
      "cell_type": "code",
      "source": "# Ejemplo de uso\naceptar_e_s(12,11.5,10,lambda x,y: x < y)\n\n# También se puede hacer la función sin definirla, usando expresiones lambda\n# Siendo x el primer valor definido, en este caso el 12. Siendo, además el valor de y 11.5\n\n# Posible respuesta;\n# True",
      "metadata": {
        "trusted": true
      },
      "execution_count": 58,
      "outputs": [
        {
          "execution_count": 55,
          "output_type": "execute_result",
          "data": {
            "text/plain": "True"
          },
          "metadata": {}
        }
      ]
    },
    {
      "cell_type": "markdown",
      "source": "### Ejercicio 5\n\nImplementar el algoritmo de enfriamiento simulado, completando el siguiente código:",
      "metadata": {}
    },
    {
      "cell_type": "code",
      "source": "def enfriamiento_simulado(problema, t_inicial, factor_descenso,\n                           n_enfriamientos, n_iteraciones):  \n\n     \"\"\"Función que implementa el algoritmo de optimización mediante\n        enfriamiento simulado. Recibe como entrada:\n        - Un problema de búsqueda local (clase Problema_Busqueda_Local)\n        - Una temperatura inicial\n        - Un factor de descenso (para el programa de enfriamiento)\n        - Un número total de enfriamientos \n        - Un número de iteraciones para cada temperatura\"\"\"\n    \n    # problema es una variable objeto de tipo Problema_Busqueda_Local con lo cual podemos usar sus subfunciones\n    # De esta manera el valor actual de inicio es el de genera_estado_inicial()\n    actual = problema.genera_estado_inicial()\n    # El valor_actual es la valoración de la variable actual, la cual obtenemos haciendo la llamada a la funcion valoracion(actual)\n    valor_actual = problema.valoracion(actual)\n    # Los valores iniciales de mejor y valor_mejor al iniciar son los los del estado inicial porque es con lo que empezamos\n    mejor = actual\n    valor_mejor = valor_actual \n    T = t_inicial\n    # En cada enfriamiento se hacen n iteraciones\n    for _ in range(n_enfriamientos):\n        # La iteraciones del enfriamiento\n        for _ in range(n_iteraciones):\n            candidata = problema.genera_sucesor()\n            valor_candidata = candidata.valoracion(candidata)\n            # Si el valor_candidata < valor_actual actualizamos el mejor valor que hay ya que problema.mejor(v1,v2) es el que definimos anteriormente\n            if problema.mejor(valor_candidata, valor_actual):\n                # Actualizamos los valores como hemos señalado anteriormente\n                actual = candidata\n                valor_actual = valor_candidata\n                # Si el valor que hemos analizado como mejor que el actual es en general el mejor actualizamos el valor mejor\n                if problema.mejor(valor_actual, valor_mejor):\n                    mejor = actual\n                    valor_mejor = valor_actual\n        # Vamos bajando la temperatura con el factor_descenso de la función con cada iteración\n        T *= factor_descenso\n    return (mejor, valor_mejor)",
      "metadata": {
        "trusted": true
      },
      "execution_count": null,
      "outputs": []
    },
    {
      "cell_type": "markdown",
      "source": "## Parte III: Resolviendo diversos problemas del viajante",
      "metadata": {}
    },
    {
      "cell_type": "markdown",
      "source": "### Ejercicio 6\n\nTratar de resolver el problema del viajante por Andalucía, usando enfriamento simulado. Probar con diversos valores para los parámetros de entrada al algoritmo  de enfriamiento simulado:",
      "metadata": {}
    },
    {
      "cell_type": "code",
      "source": "# Escribe aquí la solución\n\nviajante_andalucia = Viajante_BL(andalucia.keys(), \n                                 lambda x,y: distancia_euc2D(x,y, andalucia))\n\n# Si da error es porque no termina de cargar la función, no porque esté mal\n\n# Los valores de temperatura, factor descenso e iteraciones son arbitrarios\nsolucion = enfriamiento_simulado(viajante_andalucia, 100, 0.8, 1000, 1000)\n\nsolucion\n# Posible respuesta: \n# (['malaga', 'cadiz', 'huelva', 'sevilla', 'cordoba', 'jaen', 'almeria',\n#   'granada'], \n#   929.9255755927754)\n\n",
      "metadata": {
        "trusted": true
      },
      "execution_count": 40,
      "outputs": [
        {
          "ename": "<class 'NameError'>",
          "evalue": "name 'enfriamiento_simulado' is not defined",
          "traceback": [
            "\u001b[0;31m---------------------------------------------------------------------------\u001b[0m",
            "\u001b[0;31mNameError\u001b[0m                                 Traceback (most recent call last)",
            "Input \u001b[0;32mIn [38]\u001b[0m, in \u001b[0;36m<cell line: 6>\u001b[0;34m()\u001b[0m\n\u001b[1;32m      1\u001b[0m \u001b[38;5;66;03m# Escribe aquí la solución\u001b[39;00m\n\u001b[1;32m      3\u001b[0m viajante_andalucia \u001b[38;5;241m=\u001b[39m Viajante_BL(andalucia\u001b[38;5;241m.\u001b[39mkeys(), \n\u001b[1;32m      4\u001b[0m                                  \u001b[38;5;28;01mlambda\u001b[39;00m x,y: distancia_euc2D(x,y, andalucia))\n\u001b[0;32m----> 6\u001b[0m solucion \u001b[38;5;241m=\u001b[39m \u001b[43menfriamiento_simulado\u001b[49m(viajante_andalucia, \u001b[38;5;241m100\u001b[39m, \u001b[38;5;241m0.8\u001b[39m, \u001b[38;5;241m1000\u001b[39m, \u001b[38;5;241m1000\u001b[39m)\n\u001b[1;32m      8\u001b[0m solucion\n",
            "\u001b[0;31mNameError\u001b[0m: name 'enfriamiento_simulado' is not defined"
          ],
          "output_type": "error"
        }
      ]
    },
    {
      "cell_type": "markdown",
      "source": "### Ejercicio 7\n\nDefinir una función cuadrado_puntos_bl(n), que recibiendo un número natural n, devuelve una instancia del problema del viajante (para búsqueda local), considerando que las ciudades son $4n$ puntos del plano dispuestos en forma de cuadrado, tal y como se ha explicado en clase.\n\n",
      "metadata": {}
    },
    {
      "cell_type": "code",
      "source": "# Definimos la función que da pie a los puntos del cuadrado que son de los 4 extremos, teniendo en cuenta los puntos de origen 0\ndef ciudades_puntos(n):\n    # Recordamos que i es un iterador que itera hasta n obteniendo los puntos que hay hasta su límite\n    return([(0,i) for i in range(n)] + [(n,i) for i in range(n)] + [(i,0) for i in range(n)] \n          + [(n,i) for i in range(n)])\n# Escribe aquí la solución\n# Obtenemos de aquí en ve de una lista de ciudades obtenemos una lista de puntos que con su respectiva distancia\ndef cuadrado_puntos_bl(n):\n    # Usamos el teorema de Pitágoras para definir la distancia entre los puntos definidos:\n    # El valor de la hipotenusa elevado al cuadrado es igual a la suma del valor de cada uno de los catetos elevados al cuadrado.\n    return Viajante_BL(ciudades_puntos(n), \n                       lambda x,y: math.hypot(x[0]-y[0], x[1]-y[1]))",
      "metadata": {
        "trusted": true
      },
      "execution_count": 60,
      "outputs": []
    },
    {
      "cell_type": "markdown",
      "source": "Probar el algoritmo de enfriamiento simulado, en este problema del cuadrado de puntos, para distintos valores de n.\n\nNótese que en esta caso, por consideraciones geométricas, se conoce que el camino óptimo es de distancia $4n$. Esto nos puede servir de referencia para comprobar el rendimiento del algoritmo.",
      "metadata": {}
    },
    {
      "cell_type": "code",
      "source": "enfriamiento_simulado(cuadrado_puntos_bl(3), 5, 0.95, 100, 100)\n\n# Posible respuesta:\n# ([(2, 0), (3, 0), (3, 1), (3, 2), (3, 3), (2, 3), (1, 3), (0, 3), \n#   (0, 2), (0, 1), (0, 0), (1, 0)], \n#  12.0)",
      "metadata": {},
      "execution_count": null,
      "outputs": []
    },
    {
      "cell_type": "code",
      "source": " enfriamiento_simulado(cuadrado_puntos_bl(15), 35, 0.95, 100, 100)[1]\n\n# Posible respuesta\n# 74.0",
      "metadata": {},
      "execution_count": null,
      "outputs": []
    },
    {
      "cell_type": "markdown",
      "source": "### Ejercicio 8\n\nFinalmente, se pide probar la potencia de nuestro algoritmo con dos problemas del viajante reales, algo más complicados. Estos problemas se han tomado de TSPLIB, una biblioteca con problemas del viajante resueltos\nhttp://comopt.ifi.uni-heidelberg.de/software/TSPLIB95/",
      "metadata": {}
    },
    {
      "cell_type": "code",
      "source": "# Problema Berlin 52:\n# 52 lugares de Berlin (Groetschel)\n# La ruta óptima está valorada en 7542\n# La siguiente variable contiene las coordinadas de los lugares. La distancia\n# entre ciudades es la euclídea en dos dimensiones.\n\nberlin52=[(565.0, 575.0),\n        (25.0, 185.0),\n        (345.0, 750.0),\n        (945.0, 685.0),\n        (845.0, 655.0),\n        (880.0, 660.0),\n        (25.0, 230.0),\n        (525.0, 1000.0),\n        (580.0, 1175.0),\n        (650.0, 1130.0),\n        (1605.0, 620.0 ),\n        (1220.0, 580.0),\n        (1465.0, 200.0),\n        (1530.0, 5.0),\n        (845.0, 680.0),\n        (725.0, 370.0),\n        (145.0, 665.0),\n        (415.0, 635.0),\n        (510.0, 875.0  ),\n        (560.0, 365.0),\n        (300.0, 465.0),\n        (520.0, 585.0),\n        (480.0, 415.0),\n        (835.0, 625.0),\n        (975.0, 580.0),\n        (1215.0, 245.0),\n        (1320.0, 315.0),\n        (1250.0, 400.0),\n        (660.0, 180.0),\n        (410.0, 250.0),\n        (420.0, 555.0),\n        (575.0, 665.0),\n        (1150.0, 1160.0),\n        (700.0, 580.0),\n        (685.0, 595.0),\n        (685.0, 610.0),\n        (770.0, 610.0),\n        (795.0, 645.0),\n        (720.0, 635.0),\n        (760.0, 650.0),\n        (475.0, 960.0),\n        (95.0, 260.0),\n        (875.0, 920.0),\n        (700.0, 500.0),\n        (555.0, 815.0),\n        (830.0, 485.0),\n        (1170.0, 65.0),\n        (830.0, 610.0),\n        (605.0, 625.0),\n        (595.0, 360.0),\n        (1340.0, 725.0),\n        (1740.0, 245.0)]\n",
      "metadata": {},
      "execution_count": null,
      "outputs": []
    },
    {
      "cell_type": "code",
      "source": "# Escribe aquí la definición de viajante_berlin52 y haz la prueba.\n\n\n\nenfriamiento_simulado(viajante_berlin52,1000,0.95,300,300)[1]\n\n# Posible respuesta:\n# 7598.442340904538\n\n# La ruta óptima está valorada en 7542.",
      "metadata": {},
      "execution_count": null,
      "outputs": []
    },
    {
      "cell_type": "code",
      "source": "# Problema pr76\n# 76 ciudades (presentado por Padberg y Rinaldi)\n# La ruta óptima está valorada en 108159\n# La siguiente variable contiene las coordinadas de los lugares. La distancia\n# entre ciudades es la euclídea en dos dimensiones.\n\npr76=[(3600, 2300),\n      (3100, 3300),\n      (4700, 5750),\n      (5400, 5750),\n      (5608, 7103),\n      (4493, 7102),\n      (3600, 6950),\n      (3100, 7250),\n      (4700, 8450),\n      (5400, 8450),\n      (5610, 10053),\n      (4492, 10052),\n      (3600, 10800),\n      (3100, 10950),\n      (4700, 11650),\n      (5400, 11650),\n      (6650, 10800),\n      (7300, 10950),\n      (7300, 7250),\n      (6650, 6950),\n      (7300, 3300),\n      (6650, 2300),\n      (5400, 1600),\n      (8350, 2300),\n      (7850, 3300),\n      (9450, 5750),\n      (10150, 5750),\n      (10358, 7103),\n      (9243, 7102),\n      (8350, 6950),\n      (7850, 7250),\n      (9450, 8450),\n      (10150, 8450),\n      (10360, 10053),\n      (9242, 10052),\n      (8350, 10800),\n      (7850, 10950),\n      (9450, 11650),\n      (10150, 11650),\n      (11400, 10800),\n      (12050, 10950),\n      (12050, 7250),\n      (11400, 6950),\n      (12050, 3300),\n      (11400, 2300),\n      (10150, 1600),\n      (13100, 2300),\n      (12600, 3300),\n      (14200, 5750),\n      (14900, 5750),\n      (15108, 7103),\n      (13993, 7102),\n      (13100, 6950),\n      (12600, 7250),\n      (14200, 8450),\n      (14900, 8450),\n      (15110, 10053),\n      (13992, 10052),\n      (13100, 10800),\n      (12600, 10950),\n      (14200, 11650),\n      (14900, 11650),\n      (16150, 10800),\n      (16800, 10950),\n      (16800, 7250),\n      (16150, 6950),\n      (16800, 3300),\n      (16150, 2300),\n      (14900, 1600),\n      (19800, 800),\n      (19800, 10000),\n      (19800, 11900),\n      (19800, 12200),\n      (200, 12200),\n      (200, 1100),\n      (200, 800)]",
      "metadata": {},
      "execution_count": null,
      "outputs": []
    },
    {
      "cell_type": "code",
      "source": "# Escribe aquí la definición de viajante_pr76 y haz la prueba.\n\nenfriamiento_simulado(viajante_pr76,200000,0.95,1000,1000)[1]\n\n# Posible respuesta:\n# 111378.8272440735\n\n# La ruta óptima está valorada en 108159",
      "metadata": {},
      "execution_count": null,
      "outputs": []
    },
    {
      "cell_type": "code",
      "source": "",
      "metadata": {},
      "execution_count": null,
      "outputs": []
    }
  ]
}