{
  "cells": [
    {
      "cell_type": "markdown",
      "metadata": {},
      "source": [
        "# Práctica 4 - Inteligencia Artificial\n",
        "\n",
        "### Grado Ingeniería Informática Tecnologías Informáticas - Curso 2021-22\n",
        "\n",
        "### Técnicas metaheurísticas para optimización\n",
        "### Procesos de Decisión de Markov\n",
        "\n",
        "José Luis Ruíz Reina y comentado por tu chavalito pesao de confianza 😎"
      ]
    },
    {
      "cell_type": "code",
      "execution_count": 6,
      "metadata": {
        "trusted": true
      },
      "outputs": [],
      "source": [
        "import random"
      ]
    },
    {
      "cell_type": "markdown",
      "metadata": {},
      "source": [
        "En esta práctica vamos a implementar algoritmos relacionados con Procesos de Decisión de Markov. \n",
        "\n",
        "Supondremos que un Procesos de Decisión de Markov (MDP, por sus siglas en inglés) va a ser un objeto de la siguiente clase (o mejor dicho, de una subclase de la siguiente clase). "
      ]
    },
    {
      "cell_type": "code",
      "execution_count": 7,
      "metadata": {
        "trusted": true
      },
      "outputs": [],
      "source": [
        "class MDP(object):\n",
        "\n",
        "    \"\"\"La clase genérica MDP tiene como métodos la función de recompensa R,\n",
        "    la función A que da la lista de acciones aplicables a un estado, y la\n",
        "    función T que implementa el modelo de transición. Para cada estado y\n",
        "    acción aplicable al estado, la función T devuelve una lista de pares\n",
        "    (ei,pi) que describe los posibles estados ei que se pueden obtener al\n",
        "    plical la acción al estado, junto con la probabilidad pi de que esto\n",
        "    ocurra. El constructor de la clase recibe la lista de estados posibles y\n",
        "    el factor de descuento.\n",
        "\n",
        "    En esta clase genérica, las funciones R, A y T aparecen sin definir. Un\n",
        "    MDP concreto va a ser un objeto de una subclase de esta clase MDP, en la\n",
        "    que se definirán de manera concreta estas tres funciones\"\"\"  \n",
        "\n",
        "    def __init__(self,estados,descuento):\n",
        "\n",
        "        self.estados=estados\n",
        "        self.descuento=descuento\n",
        "\n",
        "    def R(self,estado):\n",
        "        pass\n",
        "\n",
        "    def A(self,estado):\n",
        "        pass\n",
        "        \n",
        "    def T(self,estado,accion):\n",
        "        pass"
      ]
    },
    {
      "cell_type": "markdown",
      "metadata": {},
      "source": [
        "Consideramos el siguiente problema:\n",
        "\n",
        "A lo largo de su vida, una empresa pasa por situaciones muy distintas, que por simplificar resumiremos en que al inicio de cada campaña puede estar rica o pobre, y ser conocida o desconocida.  Para ello puede decidir en cada momento o bien invertir en publicidad, o bien optar por no hacer publicidad. Estas dos acciones no tienen siempre un resultado fijo, aunque podemos describirlo de manera probabilística:\n",
        "\n",
        "* Si la empresa es rica y conocida y no invierte en publicidad, seguirá rica, pero existe un 50% de probabilidad de que se vuelva desconocida. Si gasta en publicidad, con toda seguridad seguirá conocida pero pasará a ser pobre.  \n",
        "* Si la empresa es rica y desconocida y no gasta en publicidad, seguirá desconocida, y existe un 50% de que se vuelva pobre. Si gasta en publicidad, se volverá pobre, pero existe un 50% de probabilidades de que se vuelva conocida.\n",
        "* Si la empresa es pobre y conocida y no invierte en publicidad, pasará a ser pobre y desconocida con un 50% de probabilidad, y rica y conocida en caso contrario. Si gasta en publicidad, con toda seguridad seguirá en la misma situación. \n",
        "* Si la empresa es pobre y desconocida, y no invierte en publicidad, seguirá en la misma situación con toda seguridad. Si gasta en publicidad, seguirá pobre, pero con un 50% de posibilidades pasará aser conocida. \n",
        "\n",
        "Supondremos que la recompensa en una campaña en la que la empresa es rica es de 10, y de 0 en en las que sea pobre. El objetivo es conseguir la mayor recompesa acumulada a lo largo del tiempo, aunque penalizaremos las ganancias obtenidas en campañas muy lejanas en el tiempo, introduciendo un factor de descuento de 0.9. "
      ]
    },
    {
      "cell_type": "markdown",
      "metadata": {
        "tags": []
      },
      "source": [
        "### Ejercicio 1\n",
        "\n",
        "Se pide representar el problema como un proceso de decisión de Markov, definiendo una clase Rica_y_Conocida, subclase de la clase MDP genérica, cuyo constructor recibe como entrada únicamente el factor de descuento, y en la que se definen de manera concreta los métodos R, A y T, según lo descrito. Para ello:\n",
        "* La recompensa la guardaremos en un diccionario con claves \"RC\", \"RD\", \"PC\" y \"PD\", donde \"R\" es Rica, \"P\" es pobre, \"C\" es conocida y \"D\" es desconocida. Los valor del diccionario son las recompensas asociadas.\n",
        "* Las acciones serán: \"No publicidad\" y \"Gastar en publicidad\"\n",
        "* La transición también será un diccionario donde las claves son tuplas (Estado, acción) y los valores son listas de pares (Nuevo_estado, probabilidad). Por ejemplo un par clave-valor del diccionario será (\"RC\",\"No publicidad\"):[(\"RC\",0.5),(\"RD\",0.5)]\n"
      ]
    },
    {
      "cell_type": "markdown",
      "metadata": {},
      "source": [
        "Recordamos que el factor de descuento es 0.9, que es el que viene definido en el enunciado, además que la recompensa para ser rica es 10 y por ser pobre es 0. \n",
        "\n",
        "También sabemmos que R es rica, P es pobre, C es conocida y D desconocida. Por tanto tenemos:\n",
        "\n",
        "* RC es Rica y Conocida\n",
        "* RD es Rica y Desconocida\n",
        "* PC es Pobre y Conocida\n",
        "* PD es pobre y Desconocida"
      ]
    },
    {
      "cell_type": "code",
      "execution_count": 8,
      "metadata": {
        "trusted": true
      },
      "outputs": [],
      "source": [
        "# Solución:\n",
        "class Rica_y_Conocida(MDP):\n",
        "    \n",
        "    def __init__(self, factor_descuento = 0.9):\n",
        "        \n",
        "        # Definimos las recompensas por estado, si es rica 10 y si es pobre 0\n",
        "        self.DiccionarioRecompensa = {\"RC\": 10, \"RD\": 10, \"PC\": 0, \"PD\": 0}\n",
        "        self.DiccionarioTransicion = {\n",
        "            # Si la empresa no invierte en publicidad hay un 50% de que siga siendo desconocida y 50% de que se vuelva desconocida. Pero sigue siendo rica\n",
        "            (\"RC\", \"No publicidad\"): [(\"RC\", 0.5), (\"RD\", 0.5)],\n",
        "            # Si se gasta el dinero en publicidad seguro (100%) que se vuelve pobre pero sigue siendo conocida\n",
        "            (\"RC\", \"Gastar en publicidad\"): [(\"PC\", 1)],\n",
        "            # Si no gasta en publicidad seguirá siendo desconocida pero con un 50% de que se vuelva pobre o 50% de seguir siendo rica\n",
        "            (\"RD\", \"No publicidad\"): [(\"RD\", 0.5), (\"PD\", 0.5)],\n",
        "            # Si gasta en publicidad se vuelve pobre seguro (100%) pero con un 50% de ser conocida o 50% de seguir siendo desconocida\n",
        "            (\"RD\", \"Gastar en publicidad\"): [(\"PD\", 0.5), (\"PC\", 0.5)],\n",
        "            # Si no invierte en publicidad hay un 50% de volverse pobre y desconocida o un 50% de volverse rica y seguir siendo conocida\n",
        "            (\"PC\", \"No publicidad\"): [(\"PD\", 0.5),(\"RC\", 0.5)],\n",
        "            # Si gasta en publicidad seguirá siendo pobre y conocida (100%)\n",
        "            (\"PC\", \"Gastar en publicidad\"): [(\"PC\", 1)],\n",
        "            # Si es pobre y desconocida sin gastar en publicidad con toda posibilidad (100%) va a seguir siendo pobre y desconocida\n",
        "            (\"PD\", \"No publicidad\"): [(\"PD\", 1)],\n",
        "            # Si gasta en publicidad hay un 50% que siga igual o un 50% de que se vuelva pobre y conocida\n",
        "            (\"PD\", \"Gastar en publicidad\"): [(\"PD\", 0.5),(\"PC\", 0.5)]\n",
        "            \n",
        "        }\n",
        "        estados = [\"RC\", \"RD\", \"PC\", \"PD\"]\n",
        "        super().__init__(estados, factor_descuento)\n",
        "        \n",
        "    # Definimos las recompensas\n",
        "    def R(self,estado):\n",
        "        return self.DiccionarioRecompensa[estado]\n",
        "    \n",
        "    # Definimos las acciones\n",
        "    def A(self,estado):\n",
        "        return [\"No publicidad\", \"Gastar en publicidad\"]\n",
        "\n",
        "    # Definimos las transiciones\n",
        "    def T(self,estado,accion):\n",
        "        return self.DiccionarioTransicion[(estado,accion)]"
      ]
    },
    {
      "cell_type": "markdown",
      "metadata": {},
      "source": [
        "### Ejercicio 2\n",
        "\n",
        "En general, dado un MDP, representaremos una política para el mismo como un diccionario cuyas claves son los estados, y los valores las acciones. Una política representa una manera concreta de decidir en cada estado la acción (de entre las aplicables a ese estado) que ha de aplicarse. \n",
        "\n",
        "Dado un MDP, un estado de partida, y una política concreta, podemos generar (muestrear) una secuencia de estados por los que iríamos pasando si vamos aplicando las acciones que nos indica la política: dado un estado de la secuencia, aplicamos a ese estado la acción que indique la política, y obtenemos un estado siguiente de manera aleatoria, pero siguiendo la distribución de probabilidad que indica el modelo de transición dado por el método T.  \n",
        "\n",
        "Se pide definir una función \"genera_secuencia_estados(mdp,pi,e,n)\" que devuelva una secuencia de estados de longitud n, obtenida siguiendo el método anterior. Aquí mdp es objeto de la clase MDP, pi es una política, e un estado de partida y n la longitud de la secuencia. "
      ]
    },
    {
      "cell_type": "code",
      "execution_count": null,
      "metadata": {},
      "outputs": [],
      "source": []
    },
    {
      "cell_type": "code",
      "execution_count": 9,
      "metadata": {
        "trusted": true
      },
      "outputs": [],
      "source": [
        "# Solución\n",
        "\n",
        "def muestreo(estado):\n",
        "    # Definimos valor aleatorio que usaremos en el muestreo\n",
        "    valor_aleatorio = random.random()\n",
        "    # Inicializamos la variable que tendrá la política del estado que habrá en el bucle actualmente\n",
        "    politica_actual = 0\n",
        "    # Bucle que recorre el estado con el par accion, politica\n",
        "    for accion,politica in estado:\n",
        "        # Añadimos la politica actual y vamos añadiéndola a la variable\n",
        "        politica_actual += politica\n",
        "        # Si la política actual es mayor que el valor aleatorio ...\n",
        "        if politica_actual > valor_aleatorio:\n",
        "            # ... devolvemos el valor de la política actual\n",
        "            return politica_actual\n",
        "    \n",
        "def genera_secuencia_estados(mdp,pi,e,n):\n",
        "    # Vamos a usar el estado e como entrada\n",
        "    actual = e\n",
        "    # La variable con la secuencia generada recoge el estado_actual\n",
        "    secuencia_generada = [actual]\n",
        "    # Hace el for iterando n-1 porque empezamos por el valor 0\n",
        "    for _ in range(n-1):\n",
        "        # Le pasamos el modelo mdp marcando la transición con el estado y la política del mismo\n",
        "        estado_actual = muestreo(mdp.T(actual, pi[actual]))\n",
        "        # Añadimos el estado del muestreo a la secuencia que queremos generar\n",
        "        secuencia_generada.append(actual)\n",
        "    return secuencia_generada"
      ]
    },
    {
      "cell_type": "code",
      "execution_count": null,
      "metadata": {},
      "outputs": [],
      "source": [
        "# Este código da el buen resultado, es mejor que el anterior\n",
        "def muestreo(distr):\n",
        "\n",
        "    r=random.random()\n",
        "    \n",
        "    acum=0\n",
        "    \n",
        "    for v,p in distr:\n",
        "    \n",
        "        acum+=p\n",
        "    \n",
        "        if acum>r:\n",
        "\n",
        "            return v\n",
        "    \n",
        "def genera_secuencia_estados(mdp,pi,e,n):\n",
        "\n",
        "  actual=e\n",
        "\n",
        "  seq=[actual]\n",
        "\n",
        "  for _ in range(n-1):\n",
        "\n",
        "    actual=muestreo(mdp.T(actual,pi[actual]))\n",
        "\n",
        "    seq.append(actual)\n",
        "\n",
        "  return seq"
      ]
    },
    {
      "cell_type": "markdown",
      "metadata": {},
      "source": []
    },
    {
      "cell_type": "markdown",
      "metadata": {},
      "source": [
        "Vemos a continuación algunos ejemplo de uso:"
      ]
    },
    {
      "cell_type": "code",
      "execution_count": 10,
      "metadata": {
        "trusted": true
      },
      "outputs": [],
      "source": [
        "# Definimos una instancia de la subclase \n",
        "mdp_ryc=Rica_y_Conocida()"
      ]
    },
    {
      "cell_type": "code",
      "execution_count": 11,
      "metadata": {
        "trusted": true
      },
      "outputs": [
        {
          "data": {
            "text/plain": [
              "['PC', 'PC', 'PC', 'PC', 'PC', 'PC', 'PC', 'PC', 'PC', 'PC']"
            ]
          },
          "execution_count": 11,
          "metadata": {},
          "output_type": "execute_result"
        }
      ],
      "source": [
        "pi_ryc_ahorra={\"RC\":\"No publicidad\",\"RD\":\"No publicidad\",\n",
        "                    \"PC\":\"No publicidad\",\"PD\":\"No publicidad\"}\n",
        "genera_secuencia_estados(mdp_ryc,pi_ryc_ahorra,\"PC\",10)\n",
        "\n",
        "# Posible resultado:\n",
        "# ['PC', 'PD', 'PD', 'PD', 'PD', 'PD', 'PD', 'PD', 'PD', 'PD']"
      ]
    },
    {
      "cell_type": "code",
      "execution_count": 12,
      "metadata": {
        "trusted": true
      },
      "outputs": [
        {
          "data": {
            "text/plain": [
              "['RD', 'RD', 'RD', 'RD', 'RD', 'RD', 'RD', 'RD']"
            ]
          },
          "execution_count": 12,
          "metadata": {},
          "output_type": "execute_result"
        }
      ],
      "source": [
        "pi_ryc_2={\"RC\":\"No publicidad\",\"RD\":\"Gastar en publicidad\",\n",
        "               \"PC\":\"No publicidad\",\"PD\":\"Gastar en publicidad\"}\n",
        "genera_secuencia_estados(mdp_ryc,pi_ryc_2,\"RD\",8)\n",
        "\n",
        "# Posible resultado:\n",
        "# ['RD', 'PC', 'RC', 'RC', 'RC', 'RC', 'RD', 'PC']"
      ]
    },
    {
      "cell_type": "markdown",
      "metadata": {},
      "source": [
        "### Ejercicio 3\n",
        "\n",
        "Dado un MDP y una secuencia de estados, valoramos dicha secuencia como la suma de las recompensas de los estados de la secuencias (cada una con el correspondiente descuento). Se pide definir una función valora_secuencia(seq,mdp) que calcula esta valoración."
      ]
    },
    {
      "cell_type": "code",
      "execution_count": 13,
      "metadata": {
        "trusted": true
      },
      "outputs": [],
      "source": [
        "# Solución\n",
        "\n",
        "def valora_secuencia(seq, mdp):\n",
        "    return sum(mdp.R(e)*(mdp.descuento**i) for i,e in enumerate(seq))\n"
      ]
    },
    {
      "cell_type": "code",
      "execution_count": 14,
      "metadata": {
        "trusted": true
      },
      "outputs": [
        {
          "data": {
            "text/plain": [
              "51.2579511"
            ]
          },
          "execution_count": 14,
          "metadata": {},
          "output_type": "execute_result"
        }
      ],
      "source": [
        "valora_secuencia(['PC', 'RC', 'RC', 'RC', 'RC', 'RC', \n",
        "                       'RD', 'RD', 'RD', 'PD', 'PD', 'PD', \n",
        "                       'PD', 'PD', 'PD', 'PD', 'PD', 'PD', \n",
        "                       'PD', 'PD'],mdp_ryc)\n",
        "\n",
        "# Resultado:\n",
        "# 51.2579511"
      ]
    },
    {
      "cell_type": "code",
      "execution_count": 15,
      "metadata": {
        "trusted": true
      },
      "outputs": [
        {
          "data": {
            "text/plain": [
              "44.11795212148159"
            ]
          },
          "execution_count": 15,
          "metadata": {},
          "output_type": "execute_result"
        }
      ],
      "source": [
        "valora_secuencia(['RD', 'PC', 'PD', 'PC', 'RC', 'RC', \n",
        "                        'RD', 'PD', 'PD', 'PC', 'RC', 'RC', \n",
        "                        'RC', 'RC', 'RC', 'RC'],mdp_ryc)\n",
        "\n",
        "# Resultado:\n",
        "# 44.11795212148159"
      ]
    },
    {
      "cell_type": "markdown",
      "metadata": {},
      "source": [
        "### Ejercicio 4\n",
        "\n",
        "Dada una política pi, la valoración de un estado e respecto de esa política, V^{pi}(e), se define como la media esperada de las valoraciones de las secuencias que se pueden generar teniendo dicho estado como estado de partida. Usando las funciones de los dos ejercicios anteriores, definir una función \"estima_valor(e,pi,mdp,m,n)\" que realiza una estimación aproximada del valor V^{pi}(e), para ello genera n secuencias de tamaño m, y calcula la media de sus valoraciones.  "
      ]
    },
    {
      "cell_type": "markdown",
      "metadata": {},
      "source": [
        "Ya que vamos a calcular la media como solución principal usaremos el sum(...)/n. Siendo n el número de secuencias, y siendo estas las que se van a recorrer valorándolas. \n",
        "\n",
        "Para ello, como se comenta anteriormente usaremos la funcion de valora_secuencia(...) para valorar las secuencias n veces, como valor de entrada a la función le vamos a pasar secuencias que generaremos con la función genera_secuencia_estados(...) y pasándole el MDP como entrada.\n",
        "\n",
        "En genera_secuencia_estados(...) tenemos al objeto mdp, a e que son los estados de la secuencia, pi que será la política usada y a m la longitud de los estados.\n"
      ]
    },
    {
      "cell_type": "code",
      "execution_count": 16,
      "metadata": {
        "trusted": true
      },
      "outputs": [],
      "source": [
        "# Solución:\n",
        "def estima_valor(e,pi,mdp,m,n):\n",
        "    return(sum(valora_secuencia(genera_secuencia_estados(mdp,pi,e,m), mdp) for _ in range (n)))/ n\n"
      ]
    },
    {
      "cell_type": "code",
      "execution_count": null,
      "metadata": {},
      "outputs": [],
      "source": []
    },
    {
      "cell_type": "code",
      "execution_count": 17,
      "metadata": {
        "trusted": true
      },
      "outputs": [
        {
          "data": {
            "text/plain": [
              "0.0"
            ]
          },
          "execution_count": 17,
          "metadata": {},
          "output_type": "execute_result"
        }
      ],
      "source": [
        "estima_valor(\"PC\",pi_ryc_ahorra,mdp_ryc,50,500)\n",
        "\n",
        "# Respuesta posible:\n",
        "# 14.531471247172597"
      ]
    },
    {
      "cell_type": "code",
      "execution_count": 18,
      "metadata": {
        "trusted": true
      },
      "outputs": [
        {
          "data": {
            "text/plain": [
              "0.0"
            ]
          },
          "execution_count": 18,
          "metadata": {},
          "output_type": "execute_result"
        }
      ],
      "source": [
        "estima_valor(\"PC\",pi_ryc_2,mdp_ryc,50,500)\n",
        "\n",
        "# Respuesta posible:\n",
        "# 35.92126959549151"
      ]
    },
    {
      "cell_type": "code",
      "execution_count": 19,
      "metadata": {
        "trusted": true
      },
      "outputs": [
        {
          "data": {
            "text/plain": [
              "99.8202989700079"
            ]
          },
          "execution_count": 19,
          "metadata": {},
          "output_type": "execute_result"
        }
      ],
      "source": [
        "estima_valor(\"RC\",pi_ryc_ahorra,mdp_ryc,60,700)\n",
        "\n",
        "# Respuesta posible:\n",
        "# 32.807558694112984"
      ]
    },
    {
      "cell_type": "code",
      "execution_count": 20,
      "metadata": {
        "trusted": true
      },
      "outputs": [
        {
          "data": {
            "text/plain": [
              "99.8202989700079"
            ]
          },
          "execution_count": 20,
          "metadata": {},
          "output_type": "execute_result"
        }
      ],
      "source": [
        "estima_valor(\"RC\",pi_ryc_2,mdp_ryc,60,700)\n",
        "\n",
        "# Respuesta posible:\n",
        "# 50.09728516585913"
      ]
    },
    {
      "cell_type": "markdown",
      "metadata": {},
      "source": [
        "### Ejercicio 5\n",
        "\n",
        "Usando la función anterior, estimar la valoración de cada estado del problema \"Rica y conocida\", con las dos siguientes políticas:\n",
        "\n",
        "* Aquella que sea cual sea el estado, siempre decide invertir en publicidad. \n",
        "* Aquella que sea cual sea el estado, siempre decide ahorrar. \n",
        "\n",
        "¿Cuál crees que es mejor? ¿Habrá alguna mejor que estas dos? ¿Cuál crees que sería la mejor política de todas? "
      ]
    },
    {
      "cell_type": "markdown",
      "metadata": {},
      "source": [
        "La solución para este ejercicio no va a ser más que crear las variables que implemente las casuísticas que nos plantean.\n",
        "\n",
        "A su vez pondremos como nombre a las variables las que nos ofrecen los ejemplos de debajo de la solución para que no haya problemas al ejecutarlo."
      ]
    },
    {
      "cell_type": "code",
      "execution_count": 29,
      "metadata": {
        "trusted": true
      },
      "outputs": [],
      "source": [
        "# Solución\n",
        "\n",
        "# Esta es la opción en la que siempre se invierte en publicidad, refrescamos los estados y acciones en la definición de RYC si lo necesitamos\n",
        "pi_ryc_gastar = {\"RC\": \"Gastar en publicidad\",\n",
        "                \"RD\": \"Gastar en publicidad\",\n",
        "                \"PC\": \"Gastar en publicidad\",\n",
        "                \"PD\": \"Gastar en publicidad\"}\n",
        "\n",
        "pi_ryc_ahorra = {\"RC\": \"No publicidad\",\n",
        "                \"RD\": \"No publicidad\",\n",
        "                \"PC\": \"No publicidad\",\n",
        "                \"PD\": \"No publicidad\"}"
      ]
    },
    {
      "cell_type": "code",
      "execution_count": 30,
      "metadata": {
        "trusted": true
      },
      "outputs": [
        {
          "data": {
            "text/plain": [
              "99.8202989700078"
            ]
          },
          "execution_count": 30,
          "metadata": {},
          "output_type": "execute_result"
        }
      ],
      "source": [
        "estima_valor(\"RC\",pi_ryc_gastar,mdp_ryc,60,1000)\n",
        "\n",
        "# Respuesta: 10.0"
      ]
    },
    {
      "cell_type": "code",
      "execution_count": 31,
      "metadata": {
        "trusted": true
      },
      "outputs": [
        {
          "data": {
            "text/plain": [
              "99.8202989700078"
            ]
          },
          "execution_count": 31,
          "metadata": {},
          "output_type": "execute_result"
        }
      ],
      "source": [
        "estima_valor(\"RC\",pi_ryc_ahorra,mdp_ryc,60,1000)\n",
        "\n",
        "# Respuesta: 33.354461818277635"
      ]
    },
    {
      "cell_type": "code",
      "execution_count": 32,
      "metadata": {
        "trusted": true
      },
      "outputs": [
        {
          "data": {
            "text/plain": [
              "99.8202989700078"
            ]
          },
          "execution_count": 32,
          "metadata": {},
          "output_type": "execute_result"
        }
      ],
      "source": [
        "estima_valor(\"RD\",pi_ryc_gastar,mdp_ryc,60,1000)\n",
        "\n",
        "# Respuesta: 10.0"
      ]
    },
    {
      "cell_type": "code",
      "execution_count": 33,
      "metadata": {
        "trusted": true
      },
      "outputs": [
        {
          "data": {
            "text/plain": [
              "99.8202989700078"
            ]
          },
          "execution_count": 33,
          "metadata": {},
          "output_type": "execute_result"
        }
      ],
      "source": [
        "estima_valor(\"RD\",pi_ryc_ahorra,mdp_ryc,60,1000)\n",
        "\n",
        "# Respuesta:18.17532275274187"
      ]
    },
    {
      "cell_type": "code",
      "execution_count": 34,
      "metadata": {
        "trusted": true
      },
      "outputs": [
        {
          "data": {
            "text/plain": [
              "0.0"
            ]
          },
          "execution_count": 34,
          "metadata": {},
          "output_type": "execute_result"
        }
      ],
      "source": [
        "estima_valor(\"PC\",pi_ryc_gastar,mdp_ryc,60,1000)\n",
        "\n",
        "# Respuesta: 0.0"
      ]
    },
    {
      "cell_type": "code",
      "execution_count": 35,
      "metadata": {
        "trusted": true
      },
      "outputs": [
        {
          "data": {
            "text/plain": [
              "0.0"
            ]
          },
          "execution_count": 35,
          "metadata": {},
          "output_type": "execute_result"
        }
      ],
      "source": [
        "estima_valor(\"PC\",pi_ryc_ahorra,mdp_ryc,60,1000)\n",
        "\n",
        "# Respuesta: estima_valor(\"PC\",pi_ryc_ahorra,mdp_ryc,60,1000)"
      ]
    },
    {
      "cell_type": "code",
      "execution_count": 36,
      "metadata": {
        "trusted": true
      },
      "outputs": [
        {
          "data": {
            "text/plain": [
              "0.0"
            ]
          },
          "execution_count": 36,
          "metadata": {},
          "output_type": "execute_result"
        }
      ],
      "source": [
        "estima_valor(\"PD\",pi_ryc_gastar,mdp_ryc,60,1000)\n",
        "\n",
        "# Respuesta: 0.0"
      ]
    },
    {
      "cell_type": "markdown",
      "metadata": {},
      "source": [
        "Se puede comprobar que salvo en el último caso, que la valoración es igual, las valoraciones que se consiguen con la segunda política son mayores que con la primera política. \n",
        "\n",
        "Ninguna de las dos políticas es la óptima, como se verá más adelante."
      ]
    },
    {
      "cell_type": "markdown",
      "metadata": {},
      "source": [
        "### Ejercicio 6\n",
        "\n",
        "La función de valoración no se suele calcular mediante la técnica de muestreo vista en el ejercicio 4, sino como resultado de resolver un sistema de ecuaciones. Dicho sistema de ecuaciones se puede resolver de manera proximada de manera iterativa, tal como se explica en el tema.\n",
        "\n",
        "Definir una función \"valoración_respecto_política(pi,mdp, n)\" que aplica dicho método iterativo (n iteraciones) para calcular la valoración V^{pi}. Dicha valoración debe devolverse como un diccionario que a cada estado e le asocia el valor \"V^{pi}(e)\" calculado.  \n",
        "\n",
        "Aplicar la función para calcular la valoración asociada a las dos políticas que se dan en el ejercicio anterior, y comparara los valores obtenidos con los obtenidos mediante muestreo. "
      ]
    },
    {
      "cell_type": "code",
      "execution_count": 1,
      "metadata": {
        "trusted": true
      },
      "outputs": [],
      "source": [
        "# Solución:\n",
        "\n",
        "def valoración_respecto_política(pi,mdp,n):\n",
        "    \n",
        "    # Asignamos las variables que vamos a usar en la función con respecto a los valores de la clase MDP\n",
        "    recompensa, transicion, descuento = mdp.R, mdp.T, mdp.descuento\n",
        "    \n",
        "    # valoracion va a ser la variable diccionario al que que se le recorre todos los estados y se le asocia el valor calculado\n",
        "    valoracion = {e:0 for estado in mdp.estados}\n",
        "    \n",
        "    for _ in range(n):\n",
        "        # Hacemos una copia de valoracion para no modificarla\n",
        "        valoracion_copia = valoracion.copy()\n",
        "        for estados in mdp.estados:\n",
        "            valoracion[estados] = recompensa(estados) + descuento*(sum([pi*valoracion_copia[estados, pi] in transicion(estados, pi[estados])]))\n",
        "    \n",
        "    return valoracion\n",
        "    "
      ]
    },
    {
      "cell_type": "code",
      "execution_count": null,
      "metadata": {},
      "outputs": [],
      "source": [
        "# Código bueno con respecto al anterior\n",
        "def valoración_respecto_política(pi,mdp, k):\n",
        "\n",
        "  \"\"\"Calcula una aproximación a la valoración de los estados respecto de la\n",
        "\n",
        "  política pi, aplicando el método iterativo\"\"\"\n",
        "\n",
        "  R, T, gamma = mdp.R, mdp.T, mdp.descuento\n",
        "\n",
        "  V = {e:0 for e in mdp.estados}\n",
        "\n",
        "  for _ in range(k):\n",
        "\n",
        "    V1 = V.copy()\n",
        "\n",
        "    for s in mdp.estados:\n",
        "\n",
        "      #acum = 0\n",
        "\n",
        "      #for (s1,p) in T(s, pi[s]):\n",
        "\n",
        "      #  acum += p * V1[s1]\n",
        "\n",
        "      #V[s] = R(s) + gamma * acum\n",
        "\n",
        "      V[s] = R(s) + gamma *(sum([p * V1[s1] for (s1,p) in T(s, pi[s])]))\n",
        "\n",
        "  return V"
      ]
    },
    {
      "cell_type": "markdown",
      "metadata": {},
      "source": [
        "Calculamos con esta función la valoración de las dos políticas anteriores."
      ]
    },
    {
      "cell_type": "code",
      "execution_count": 2,
      "metadata": {
        "trusted": true
      },
      "outputs": [
        {
          "ename": "<class 'NameError'>",
          "evalue": "name 'pi_ryc_gastar' is not defined",
          "output_type": "error",
          "traceback": [
            "\u001b[0;31m---------------------------------------------------------------------------\u001b[0m",
            "\u001b[0;31mNameError\u001b[0m                                 Traceback (most recent call last)",
            "Input \u001b[0;32mIn [2]\u001b[0m, in \u001b[0;36m<cell line: 1>\u001b[0;34m()\u001b[0m\n\u001b[0;32m----> 1\u001b[0m valoración_respecto_política(\u001b[43mpi_ryc_gastar\u001b[49m,mdp_ryc, \u001b[38;5;241m100\u001b[39m)\n",
            "\u001b[0;31mNameError\u001b[0m: name 'pi_ryc_gastar' is not defined"
          ]
        }
      ],
      "source": [
        "valoración_respecto_política(pi_ryc_gastar,mdp_ryc, 100)\n",
        "\n",
        "# Resultado:\n",
        "# {'RC': 10.0, 'RD': 10.0, 'PC': 0.0, 'PD': 0.0}"
      ]
    },
    {
      "cell_type": "code",
      "execution_count": 3,
      "metadata": {
        "trusted": true
      },
      "outputs": [
        {
          "ename": "<class 'NameError'>",
          "evalue": "name 'pi_ryc_ahorra' is not defined",
          "output_type": "error",
          "traceback": [
            "\u001b[0;31m---------------------------------------------------------------------------\u001b[0m",
            "\u001b[0;31mNameError\u001b[0m                                 Traceback (most recent call last)",
            "Input \u001b[0;32mIn [3]\u001b[0m, in \u001b[0;36m<cell line: 1>\u001b[0;34m()\u001b[0m\n\u001b[0;32m----> 1\u001b[0m valoración_respecto_política(\u001b[43mpi_ryc_ahorra\u001b[49m,mdp_ryc, \u001b[38;5;241m100\u001b[39m)\n",
            "\u001b[0;31mNameError\u001b[0m: name 'pi_ryc_ahorra' is not defined"
          ]
        }
      ],
      "source": [
        "valoración_respecto_política(pi_ryc_ahorra,mdp_ryc, 100)\n",
        "\n",
        "# Resultado:\n",
        "# {'RC': 33.05785123966942,\n",
        "#  'RD': 18.18181818181818,\n",
        "#  'PC': 14.876033057851238,\n",
        "#  'PD': 0.0}"
      ]
    },
    {
      "cell_type": "markdown",
      "metadata": {},
      "source": [
        "### Ejercicio 7\n",
        "\n",
        "En el tema 3 se ha visto que la valoración de un estado se define como la mejor valoración que pueda tener el estado, respecto a todas las políticas posibles. Y la política óptima es aquella que en cada estado realiza la acción con la mejor valoración esperada (entendiendo por valoración esperada la suma de las valoraciones de los estados que podrían resultar al aplicar dicha acción, ponderadas por la probabilidad de que ocurra eso). De esta manera, la valoración de un estado es la valoración que la política óptima asigna al estado.\n",
        "\n",
        "Para calcular tanto la valoración de los estados, como la política óptima, se han visto dos algoritmos: iteración de valores e iteración de políticas. En este ejercicio se pide implementar el algoritmo de iteración de políticas. En concreto, se pide definir una función \"iteración_de_políticas(mdp,k)\" que implementa el algoritmo de iteración de políticas, y devuelve dos diccionarios, uno con la valoración de los estados y otro con la política óptima. \n",
        "\n",
        "Comparar los resultados obtenidos con las políticas del ejercicio 5 y las valoraciones obtenidas.  "
      ]
    },
    {
      "cell_type": "markdown",
      "metadata": {},
      "source": [
        "Vamos a definir la función que nos devuelva la acción con la valoración máxima recorriendo todos los valores que haya en la secuencia de entrada"
      ]
    },
    {
      "cell_type": "code",
      "execution_count": 4,
      "metadata": {
        "trusted": true
      },
      "outputs": [],
      "source": [
        "# Solución:\n",
        "\n",
        "def argmax(seq,f):\n",
        "    max=float(\"-inf\")\n",
        "    amax=None\n",
        "    for x in seq:\n",
        "        fx=f(x)\n",
        "        if fx>max:\n",
        "            max=fx\n",
        "            amax=x\n",
        "    return amax"
      ]
    },
    {
      "cell_type": "code",
      "execution_count": 5,
      "metadata": {
        "trusted": true
      },
      "outputs": [],
      "source": [
        "def valoración_esperada(acc,estado,V,mdp):\n",
        "    \"\"\" Encuentra la valoración esperada de una acción respecto de una función\n",
        "    de valoración V\"\"\"\n",
        "\n",
        "    return sum((p * V[e] for (e,p) in mdp.T(estado, acc)))"
      ]
    },
    {
      "cell_type": "code",
      "execution_count": null,
      "metadata": {
        "trusted": true
      },
      "outputs": [],
      "source": [
        "def iteración_de_políticas(mdp,k):\n",
        "    \"Algoritmo de iteración de políticas\"\n",
        "    V = {e:0 for e in mdp.estados}\n",
        "    pi = {e:random.choice(mdp.A(e)) for e in mdp.estados}\n",
        "    while True:\n",
        "        V = valoración_respecto_política(pi,mdp, k)\n",
        "        actualizado = False\n",
        "        for e in mdp.estados:\n",
        "            acc = argmax(mdp.A(e), lambda a:valoración_esperada(a, e,V, mdp))\n",
        "            if (acc != pi[e] and \n",
        "                valoración_esperada(acc, e,V, mdp) > valoración_esperada(pi[e], e,V, mdp)): # Por si hay empate\n",
        "                pi[e] = acc\n",
        "                actualizado = True\n",
        "        if not actualizado:\n",
        "            return pi,V"
      ]
    },
    {
      "cell_type": "markdown",
      "metadata": {},
      "source": [
        "Calculamos la mejor política y su valoración con el MDP de Rica_y_Conocida. Como se ve, resulta que lo mejor es sólo gastar en publicidad cuando se es pobre y desconocido. Se observa que la valoración respecto de esa política es mejor, que las valoraciones con las política que se vieron en los ejercicios 5 y 6.   "
      ]
    },
    {
      "cell_type": "code",
      "execution_count": 8,
      "metadata": {
        "trusted": true
      },
      "outputs": [
        {
          "ename": "<class 'NameError'>",
          "evalue": "name 'iteración_de_políticas' is not defined",
          "output_type": "error",
          "traceback": [
            "\u001b[0;31m---------------------------------------------------------------------------\u001b[0m",
            "\u001b[0;31mNameError\u001b[0m                                 Traceback (most recent call last)",
            "Input \u001b[0;32mIn [7]\u001b[0m, in \u001b[0;36m<cell line: 1>\u001b[0;34m()\u001b[0m\n\u001b[0;32m----> 1\u001b[0m \u001b[43miteración_de_políticas\u001b[49m(mdp_ryc,\u001b[38;5;241m100\u001b[39m)\n",
            "\u001b[0;31mNameError\u001b[0m: name 'iteración_de_políticas' is not defined"
          ]
        }
      ],
      "source": [
        "iteración_de_políticas(mdp_ryc,100)\n",
        "\n",
        "# Respuesta\n",
        "# ({'RC': 'No publicidad',\n",
        "#   'RD': 'No publicidad',\n",
        "#   'PC': 'No publicidad',\n",
        "#   'PD': 'Gastar en publicidad'},\n",
        "#  {'RC': 54.20053629623792,\n",
        "#   'RD': 44.02311379672535,\n",
        "#   'PC': 38.602953921506,\n",
        "#   'PD': 31.584041852876634})"
      ]
    },
    {
      "cell_type": "code",
      "execution_count": null,
      "metadata": {},
      "outputs": [],
      "source": []
    }
  ],
  "metadata": {
    "kernelspec": {
      "display_name": "Python (Pyodide)",
      "language": "python",
      "name": "python"
    },
    "language_info": {
      "codemirror_mode": {
        "name": "python",
        "version": 3
      },
      "file_extension": ".py",
      "mimetype": "text/x-python",
      "name": "python",
      "nbconvert_exporter": "python",
      "pygments_lexer": "ipython3",
      "version": "3.8"
    }
  },
  "nbformat": 4,
  "nbformat_minor": 4
}
